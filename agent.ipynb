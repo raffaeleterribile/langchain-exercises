{
 "cells": [
  {
   "cell_type": "markdown",
   "metadata": {},
   "source": [
    "# Agent"
   ]
  },
  {
   "cell_type": "markdown",
   "metadata": {},
   "source": [
    "## Installing packages"
   ]
  },
  {
   "cell_type": "code",
   "execution_count": 1,
   "metadata": {},
   "outputs": [
    {
     "name": "stdout",
     "output_type": "stream",
     "text": [
      "Requirement already satisfied: langchain-community in c:\\users\\raffaele\\.conda\\envs\\langchain\\lib\\site-packages (0.3.10)\n",
      "Requirement already satisfied: langgraph in c:\\users\\raffaele\\.conda\\envs\\langchain\\lib\\site-packages (0.2.56)\n",
      "Requirement already satisfied: langchain_openai in c:\\users\\raffaele\\.conda\\envs\\langchain\\lib\\site-packages (0.2.11)\n",
      "Requirement already satisfied: tavily-python in c:\\users\\raffaele\\.conda\\envs\\langchain\\lib\\site-packages (0.5.0)\n",
      "Requirement already satisfied: langgraph-checkpoint-sqlite in c:\\users\\raffaele\\.conda\\envs\\langchain\\lib\\site-packages (2.0.1)\n",
      "Requirement already satisfied: PyYAML>=5.3 in c:\\users\\raffaele\\.conda\\envs\\langchain\\lib\\site-packages (from langchain-community) (6.0.2)\n",
      "Requirement already satisfied: SQLAlchemy<3,>=1.4 in c:\\users\\raffaele\\.conda\\envs\\langchain\\lib\\site-packages (from langchain-community) (2.0.36)\n",
      "Requirement already satisfied: aiohttp<4.0.0,>=3.8.3 in c:\\users\\raffaele\\.conda\\envs\\langchain\\lib\\site-packages (from langchain-community) (3.11.9)\n",
      "Requirement already satisfied: dataclasses-json<0.7,>=0.5.7 in c:\\users\\raffaele\\.conda\\envs\\langchain\\lib\\site-packages (from langchain-community) (0.6.7)\n",
      "Requirement already satisfied: httpx-sse<0.5.0,>=0.4.0 in c:\\users\\raffaele\\.conda\\envs\\langchain\\lib\\site-packages (from langchain-community) (0.4.0)\n",
      "Requirement already satisfied: langchain<0.4.0,>=0.3.10 in c:\\users\\raffaele\\.conda\\envs\\langchain\\lib\\site-packages (from langchain-community) (0.3.10)\n",
      "Requirement already satisfied: langchain-core<0.4.0,>=0.3.22 in c:\\users\\raffaele\\.conda\\envs\\langchain\\lib\\site-packages (from langchain-community) (0.3.22)\n",
      "Requirement already satisfied: langsmith<0.2.0,>=0.1.125 in c:\\users\\raffaele\\.conda\\envs\\langchain\\lib\\site-packages (from langchain-community) (0.1.147)\n",
      "Requirement already satisfied: numpy<2,>=1.22.4 in c:\\users\\raffaele\\.conda\\envs\\langchain\\lib\\site-packages (from langchain-community) (1.26.4)\n",
      "Requirement already satisfied: pydantic-settings<3.0.0,>=2.4.0 in c:\\users\\raffaele\\.conda\\envs\\langchain\\lib\\site-packages (from langchain-community) (2.6.1)\n",
      "Requirement already satisfied: requests<3,>=2 in c:\\users\\raffaele\\.conda\\envs\\langchain\\lib\\site-packages (from langchain-community) (2.32.3)\n",
      "Requirement already satisfied: tenacity!=8.4.0,<10,>=8.1.0 in c:\\users\\raffaele\\.conda\\envs\\langchain\\lib\\site-packages (from langchain-community) (8.5.0)\n",
      "Requirement already satisfied: langgraph-checkpoint<3.0.0,>=2.0.4 in c:\\users\\raffaele\\.conda\\envs\\langchain\\lib\\site-packages (from langgraph) (2.0.7)\n",
      "Requirement already satisfied: langgraph-sdk<0.2.0,>=0.1.42 in c:\\users\\raffaele\\.conda\\envs\\langchain\\lib\\site-packages (from langgraph) (0.1.43)\n",
      "Requirement already satisfied: openai<2.0.0,>=1.54.0 in c:\\users\\raffaele\\.conda\\envs\\langchain\\lib\\site-packages (from langchain_openai) (1.55.3)\n",
      "Requirement already satisfied: tiktoken<1,>=0.7 in c:\\users\\raffaele\\.conda\\envs\\langchain\\lib\\site-packages (from langchain_openai) (0.8.0)\n",
      "Requirement already satisfied: httpx in c:\\users\\raffaele\\.conda\\envs\\langchain\\lib\\site-packages (from tavily-python) (0.28.0)\n",
      "Requirement already satisfied: aiosqlite<0.21.0,>=0.20.0 in c:\\users\\raffaele\\.conda\\envs\\langchain\\lib\\site-packages (from langgraph-checkpoint-sqlite) (0.20.0)\n",
      "Requirement already satisfied: aiohappyeyeballs>=2.3.0 in c:\\users\\raffaele\\.conda\\envs\\langchain\\lib\\site-packages (from aiohttp<4.0.0,>=3.8.3->langchain-community) (2.4.4)\n",
      "Requirement already satisfied: aiosignal>=1.1.2 in c:\\users\\raffaele\\.conda\\envs\\langchain\\lib\\site-packages (from aiohttp<4.0.0,>=3.8.3->langchain-community) (1.3.1)\n",
      "Requirement already satisfied: attrs>=17.3.0 in c:\\users\\raffaele\\.conda\\envs\\langchain\\lib\\site-packages (from aiohttp<4.0.0,>=3.8.3->langchain-community) (24.2.0)\n",
      "Requirement already satisfied: frozenlist>=1.1.1 in c:\\users\\raffaele\\.conda\\envs\\langchain\\lib\\site-packages (from aiohttp<4.0.0,>=3.8.3->langchain-community) (1.5.0)\n",
      "Requirement already satisfied: multidict<7.0,>=4.5 in c:\\users\\raffaele\\.conda\\envs\\langchain\\lib\\site-packages (from aiohttp<4.0.0,>=3.8.3->langchain-community) (6.1.0)\n",
      "Requirement already satisfied: propcache>=0.2.0 in c:\\users\\raffaele\\.conda\\envs\\langchain\\lib\\site-packages (from aiohttp<4.0.0,>=3.8.3->langchain-community) (0.2.1)\n",
      "Requirement already satisfied: yarl<2.0,>=1.17.0 in c:\\users\\raffaele\\.conda\\envs\\langchain\\lib\\site-packages (from aiohttp<4.0.0,>=3.8.3->langchain-community) (1.18.3)\n",
      "Requirement already satisfied: typing_extensions>=4.0 in c:\\users\\raffaele\\.conda\\envs\\langchain\\lib\\site-packages (from aiosqlite<0.21.0,>=0.20.0->langgraph-checkpoint-sqlite) (4.12.2)\n",
      "Requirement already satisfied: marshmallow<4.0.0,>=3.18.0 in c:\\users\\raffaele\\.conda\\envs\\langchain\\lib\\site-packages (from dataclasses-json<0.7,>=0.5.7->langchain-community) (3.23.1)\n",
      "Requirement already satisfied: typing-inspect<1,>=0.4.0 in c:\\users\\raffaele\\.conda\\envs\\langchain\\lib\\site-packages (from dataclasses-json<0.7,>=0.5.7->langchain-community) (0.9.0)\n",
      "Requirement already satisfied: langchain-text-splitters<0.4.0,>=0.3.0 in c:\\users\\raffaele\\.conda\\envs\\langchain\\lib\\site-packages (from langchain<0.4.0,>=0.3.10->langchain-community) (0.3.2)\n",
      "Requirement already satisfied: pydantic<3.0.0,>=2.7.4 in c:\\users\\raffaele\\.conda\\envs\\langchain\\lib\\site-packages (from langchain<0.4.0,>=0.3.10->langchain-community) (2.10.2)\n",
      "Requirement already satisfied: jsonpatch<2.0,>=1.33 in c:\\users\\raffaele\\.conda\\envs\\langchain\\lib\\site-packages (from langchain-core<0.4.0,>=0.3.22->langchain-community) (1.33)\n",
      "Requirement already satisfied: packaging<25,>=23.2 in c:\\users\\raffaele\\.conda\\envs\\langchain\\lib\\site-packages (from langchain-core<0.4.0,>=0.3.22->langchain-community) (24.2)\n",
      "Requirement already satisfied: msgpack<2.0.0,>=1.1.0 in c:\\users\\raffaele\\.conda\\envs\\langchain\\lib\\site-packages (from langgraph-checkpoint<3.0.0,>=2.0.4->langgraph) (1.1.0)\n",
      "Requirement already satisfied: orjson>=3.10.1 in c:\\users\\raffaele\\.conda\\envs\\langchain\\lib\\site-packages (from langgraph-sdk<0.2.0,>=0.1.42->langgraph) (3.10.12)\n",
      "Requirement already satisfied: anyio in c:\\users\\raffaele\\.conda\\envs\\langchain\\lib\\site-packages (from httpx->tavily-python) (4.6.2.post1)\n",
      "Requirement already satisfied: certifi in c:\\users\\raffaele\\.conda\\envs\\langchain\\lib\\site-packages (from httpx->tavily-python) (2024.8.30)\n",
      "Requirement already satisfied: httpcore==1.* in c:\\users\\raffaele\\.conda\\envs\\langchain\\lib\\site-packages (from httpx->tavily-python) (1.0.7)\n",
      "Requirement already satisfied: idna in c:\\users\\raffaele\\.conda\\envs\\langchain\\lib\\site-packages (from httpx->tavily-python) (3.10)\n",
      "Requirement already satisfied: h11<0.15,>=0.13 in c:\\users\\raffaele\\.conda\\envs\\langchain\\lib\\site-packages (from httpcore==1.*->httpx->tavily-python) (0.14.0)\n",
      "Requirement already satisfied: requests-toolbelt<2.0.0,>=1.0.0 in c:\\users\\raffaele\\.conda\\envs\\langchain\\lib\\site-packages (from langsmith<0.2.0,>=0.1.125->langchain-community) (1.0.0)\n",
      "Requirement already satisfied: distro<2,>=1.7.0 in c:\\users\\raffaele\\.conda\\envs\\langchain\\lib\\site-packages (from openai<2.0.0,>=1.54.0->langchain_openai) (1.9.0)\n",
      "Requirement already satisfied: jiter<1,>=0.4.0 in c:\\users\\raffaele\\.conda\\envs\\langchain\\lib\\site-packages (from openai<2.0.0,>=1.54.0->langchain_openai) (0.8.0)\n",
      "Requirement already satisfied: sniffio in c:\\users\\raffaele\\.conda\\envs\\langchain\\lib\\site-packages (from openai<2.0.0,>=1.54.0->langchain_openai) (1.3.1)\n",
      "Requirement already satisfied: tqdm>4 in c:\\users\\raffaele\\.conda\\envs\\langchain\\lib\\site-packages (from openai<2.0.0,>=1.54.0->langchain_openai) (4.67.1)\n",
      "Requirement already satisfied: python-dotenv>=0.21.0 in c:\\users\\raffaele\\.conda\\envs\\langchain\\lib\\site-packages (from pydantic-settings<3.0.0,>=2.4.0->langchain-community) (1.0.1)\n",
      "Requirement already satisfied: charset-normalizer<4,>=2 in c:\\users\\raffaele\\.conda\\envs\\langchain\\lib\\site-packages (from requests<3,>=2->langchain-community) (3.4.0)\n",
      "Requirement already satisfied: urllib3<3,>=1.21.1 in c:\\users\\raffaele\\.conda\\envs\\langchain\\lib\\site-packages (from requests<3,>=2->langchain-community) (2.2.3)\n",
      "Requirement already satisfied: greenlet!=0.4.17 in c:\\users\\raffaele\\.conda\\envs\\langchain\\lib\\site-packages (from SQLAlchemy<3,>=1.4->langchain-community) (3.1.1)\n",
      "Requirement already satisfied: regex>=2022.1.18 in c:\\users\\raffaele\\.conda\\envs\\langchain\\lib\\site-packages (from tiktoken<1,>=0.7->langchain_openai) (2024.11.6)\n",
      "Requirement already satisfied: jsonpointer>=1.9 in c:\\users\\raffaele\\.conda\\envs\\langchain\\lib\\site-packages (from jsonpatch<2.0,>=1.33->langchain-core<0.4.0,>=0.3.22->langchain-community) (3.0.0)\n",
      "Requirement already satisfied: annotated-types>=0.6.0 in c:\\users\\raffaele\\.conda\\envs\\langchain\\lib\\site-packages (from pydantic<3.0.0,>=2.7.4->langchain<0.4.0,>=0.3.10->langchain-community) (0.7.0)\n",
      "Requirement already satisfied: pydantic-core==2.27.1 in c:\\users\\raffaele\\.conda\\envs\\langchain\\lib\\site-packages (from pydantic<3.0.0,>=2.7.4->langchain<0.4.0,>=0.3.10->langchain-community) (2.27.1)\n",
      "Requirement already satisfied: colorama in c:\\users\\raffaele\\.conda\\envs\\langchain\\lib\\site-packages (from tqdm>4->openai<2.0.0,>=1.54.0->langchain_openai) (0.4.6)\n",
      "Requirement already satisfied: mypy-extensions>=0.3.0 in c:\\users\\raffaele\\.conda\\envs\\langchain\\lib\\site-packages (from typing-inspect<1,>=0.4.0->dataclasses-json<0.7,>=0.5.7->langchain-community) (1.0.0)\n",
      "Note: you may need to restart the kernel to use updated packages.\n"
     ]
    }
   ],
   "source": [
    "%pip install -U langchain-community langgraph langchain_openai tavily-python langgraph-checkpoint-sqlite"
   ]
  },
  {
   "cell_type": "markdown",
   "metadata": {},
   "source": [
    "## Configuring LangSmith (optional), Tavily (search engine) and model"
   ]
  },
  {
   "cell_type": "code",
   "execution_count": 2,
   "metadata": {},
   "outputs": [],
   "source": [
    "import getpass\n",
    "import os\n",
    "\n",
    "os.environ[\"LANGCHAIN_TRACING_V2\"] = \"true\"\n",
    "os.environ[\"LANGCHAIN_API_KEY\"] = getpass.getpass()\n",
    "\n",
    "os.environ[\"TAVILY_API_KEY\"] = getpass.getpass()\n",
    "\n",
    "os.environ[\"OPENAI_API_KEY\"] = getpass.getpass()"
   ]
  },
  {
   "cell_type": "markdown",
   "metadata": {},
   "source": [
    "## Full functional agent"
   ]
  },
  {
   "cell_type": "code",
   "execution_count": 3,
   "metadata": {},
   "outputs": [
    {
     "name": "stdout",
     "output_type": "stream",
     "text": [
      "{'agent': {'messages': [AIMessage(content=\"Hello Bob! How's it going in San Francisco? If there's anything you need help with or if you have any questions, feel free to ask!\", additional_kwargs={'refusal': None}, response_metadata={'token_usage': {'completion_tokens': 31, 'prompt_tokens': 88, 'total_tokens': 119, 'completion_tokens_details': None, 'prompt_tokens_details': None}, 'model_name': 'gpt-4o-2024-08-06', 'system_fingerprint': 'fp_04751d0b65', 'finish_reason': 'stop', 'logprobs': None}, id='run-25bf03cc-7814-4845-a022-5b5ea7e7fa34-0', usage_metadata={'input_tokens': 88, 'output_tokens': 31, 'total_tokens': 119, 'input_token_details': {}, 'output_token_details': {}})]}}\n",
      "----\n",
      "{'agent': {'messages': [AIMessage(content='', additional_kwargs={'tool_calls': [{'id': 'call_LDfjmmswKeEkfcBQKWVeJ3GA', 'function': {'arguments': '{\"query\":\"current weather in San Francisco\"}', 'name': 'tavily_search_results_json'}, 'type': 'function'}], 'refusal': None}, response_metadata={'token_usage': {'completion_tokens': 22, 'prompt_tokens': 134, 'total_tokens': 156, 'completion_tokens_details': None, 'prompt_tokens_details': None}, 'model_name': 'gpt-4o-2024-08-06', 'system_fingerprint': 'fp_d54531d9eb', 'finish_reason': 'tool_calls', 'logprobs': None}, id='run-39401cda-304f-4703-8fb0-890c9e4f6156-0', tool_calls=[{'name': 'tavily_search_results_json', 'args': {'query': 'current weather in San Francisco'}, 'id': 'call_LDfjmmswKeEkfcBQKWVeJ3GA', 'type': 'tool_call'}], usage_metadata={'input_tokens': 134, 'output_tokens': 22, 'total_tokens': 156, 'input_token_details': {}, 'output_token_details': {}})]}}\n",
      "----\n",
      "{'tools': {'messages': [ToolMessage(content='[{\"url\": \"https://www.weatherapi.com/\", \"content\": \"{\\'location\\': {\\'name\\': \\'San Francisco\\', \\'region\\': \\'California\\', \\'country\\': \\'United States of America\\', \\'lat\\': 37.775, \\'lon\\': -122.4183, \\'tz_id\\': \\'America/Los_Angeles\\', \\'localtime_epoch\\': 1733665403, \\'localtime\\': \\'2024-12-08 05:43\\'}, \\'current\\': {\\'last_updated_epoch\\': 1733664600, \\'last_updated\\': \\'2024-12-08 05:30\\', \\'temp_c\\': 10.1, \\'temp_f\\': 50.2, \\'is_day\\': 0, \\'condition\\': {\\'text\\': \\'Mist\\', \\'icon\\': \\'//cdn.weatherapi.com/weather/64x64/night/143.png\\', \\'code\\': 1030}, \\'wind_mph\\': 4.5, \\'wind_kph\\': 7.2, \\'wind_degree\\': 9, \\'wind_dir\\': \\'N\\', \\'pressure_mb\\': 1021.0, \\'pressure_in\\': 30.15, \\'precip_mm\\': 0.0, \\'precip_in\\': 0.0, \\'humidity\\': 93, \\'cloud\\': 75, \\'feelslike_c\\': 9.3, \\'feelslike_f\\': 48.7, \\'windchill_c\\': 11.5, \\'windchill_f\\': 52.7, \\'heatindex_c\\': 11.1, \\'heatindex_f\\': 52.1, \\'dewpoint_c\\': 10.9, \\'dewpoint_f\\': 51.6, \\'vis_km\\': 8.0, \\'vis_miles\\': 4.0, \\'uv\\': 0.0, \\'gust_mph\\': 7.9, \\'gust_kph\\': 12.7}}\"}, {\"url\": \"https://world-weather.info/forecast/usa/san_francisco/august-2024/\", \"content\": \"Weather in San Francisco in August 2024 (California) - Detailed Weather Forecast for a Month Weather in San Francisco Weather in San Francisco in August 2024 1 +64°+54° 2 +64°+54° 3 +66°+55° 4 +61°+54° 5 +63°+54° 6 +66°+54° 7 +64°+54° 8 +61°+54° 9 +61°+54° 10 +63°+54° 11 +61°+54° 12 +61°+54° 13 +64°+54° 14 +64°+55° 15 +64°+55° 16 +68°+55° 17 +68°+59° 18 +68°+57° 19 +66°+54° 20 +70°+55° 21 +66°+55° 22 +66°+57° 23 +66°+55° 24 +70°+59° 25 +72°+55° 26 +73°+57° 27 +75°+55° 28 +70°+57° 29 +68°+57° 30 +68°+57° 31 +68°+57° Weather in Washington, D.C.+66° Sacramento+59° Pleasanton+55° Redwood City+57° San Leandro+59° San Mateo+55° San Rafael+57° San Ramon+55° South San Francisco+55° Vallejo+57° Pacifica+52° Berkeley+61° Concord+57° Daly City+54° Canyon+59° world\\'s temperature today Temperature units\"}]', name='tavily_search_results_json', id='5375b04c-910b-4676-a8cd-4fb219da3962', tool_call_id='call_LDfjmmswKeEkfcBQKWVeJ3GA', artifact={'query': 'current weather in San Francisco', 'follow_up_questions': None, 'answer': None, 'images': [], 'results': [{'title': 'Weather in San Francisco, CA', 'url': 'https://www.weatherapi.com/', 'content': \"{'location': {'name': 'San Francisco', 'region': 'California', 'country': 'United States of America', 'lat': 37.775, 'lon': -122.4183, 'tz_id': 'America/Los_Angeles', 'localtime_epoch': 1733665403, 'localtime': '2024-12-08 05:43'}, 'current': {'last_updated_epoch': 1733664600, 'last_updated': '2024-12-08 05:30', 'temp_c': 10.1, 'temp_f': 50.2, 'is_day': 0, 'condition': {'text': 'Mist', 'icon': '//cdn.weatherapi.com/weather/64x64/night/143.png', 'code': 1030}, 'wind_mph': 4.5, 'wind_kph': 7.2, 'wind_degree': 9, 'wind_dir': 'N', 'pressure_mb': 1021.0, 'pressure_in': 30.15, 'precip_mm': 0.0, 'precip_in': 0.0, 'humidity': 93, 'cloud': 75, 'feelslike_c': 9.3, 'feelslike_f': 48.7, 'windchill_c': 11.5, 'windchill_f': 52.7, 'heatindex_c': 11.1, 'heatindex_f': 52.1, 'dewpoint_c': 10.9, 'dewpoint_f': 51.6, 'vis_km': 8.0, 'vis_miles': 4.0, 'uv': 0.0, 'gust_mph': 7.9, 'gust_kph': 12.7}}\", 'score': 0.9971047, 'raw_content': None}, {'title': 'Weather in San Francisco in August 2024', 'url': 'https://world-weather.info/forecast/usa/san_francisco/august-2024/', 'content': \"Weather in San Francisco in August 2024 (California) - Detailed Weather Forecast for a Month Weather in San Francisco Weather in San Francisco in August 2024 1 +64°+54° 2 +64°+54° 3 +66°+55° 4 +61°+54° 5 +63°+54° 6 +66°+54° 7 +64°+54° 8 +61°+54° 9 +61°+54° 10 +63°+54° 11 +61°+54° 12 +61°+54° 13 +64°+54° 14 +64°+55° 15 +64°+55° 16 +68°+55° 17 +68°+59° 18 +68°+57° 19 +66°+54° 20 +70°+55° 21 +66°+55° 22 +66°+57° 23 +66°+55° 24 +70°+59° 25 +72°+55° 26 +73°+57° 27 +75°+55° 28 +70°+57° 29 +68°+57° 30 +68°+57° 31 +68°+57° Weather in Washington, D.C.+66° Sacramento+59° Pleasanton+55° Redwood City+57° San Leandro+59° San Mateo+55° San Rafael+57° San Ramon+55° South San Francisco+55° Vallejo+57° Pacifica+52° Berkeley+61° Concord+57° Daly City+54° Canyon+59° world's temperature today Temperature units\", 'score': 0.9952077, 'raw_content': None}], 'response_time': 2.39})]}}\n",
      "----\n",
      "{'agent': {'messages': [AIMessage(content='Currently, in San Francisco, the temperature is about 10.1°C (50.2°F) with misty conditions. The wind is coming from the north at about 4.5 mph (7.2 kph). The humidity level is high at 93%, and visibility is around 8 kilometers (4 miles). The weather feels slightly cooler at 9.3°C (48.7°F). It is nighttime, so the UV index is 0.\\n\\nIf you need more detailed weather information or a forecast, feel free to ask!', additional_kwargs={'refusal': None}, response_metadata={'token_usage': {'completion_tokens': 113, 'prompt_tokens': 964, 'total_tokens': 1077, 'completion_tokens_details': None, 'prompt_tokens_details': None}, 'model_name': 'gpt-4o-2024-08-06', 'system_fingerprint': 'fp_04751d0b65', 'finish_reason': 'stop', 'logprobs': None}, id='run-bfd66522-1792-463b-b692-f504fe02fae3-0', usage_metadata={'input_tokens': 964, 'output_tokens': 113, 'total_tokens': 1077, 'input_token_details': {}, 'output_token_details': {}})]}}\n",
      "----\n"
     ]
    }
   ],
   "source": [
    "# Import relevant functionality\n",
    "from langchain_openai import ChatOpenAI\n",
    "from langchain_community.tools.tavily_search import TavilySearchResults\n",
    "from langchain_core.messages import SystemMessage, HumanMessage, AIMessage\n",
    "from langgraph.checkpoint.memory import MemorySaver\n",
    "from langgraph.prebuilt import create_react_agent\n",
    "\n",
    "# Create the agent\n",
    "memory = MemorySaver()\n",
    "model = ChatOpenAI(model=\"gpt-4o\", base_url=\"https://models.inference.ai.azure.com\")\n",
    "search = TavilySearchResults(max_results=2)\n",
    "tools = [search]\n",
    "agent_executor = create_react_agent(model, tools, checkpointer=memory)\n",
    "\n",
    "# Use the agent\n",
    "config = {\"configurable\": {\"thread_id\": \"abc123\"}}\n",
    "for chunk in agent_executor.stream(\n",
    "    {\"messages\": [HumanMessage(content=\"hi im bob! and i live in sf\")]}, config\n",
    "):\n",
    "    print(chunk)\n",
    "    print(\"----\")\n",
    "\n",
    "for chunk in agent_executor.stream(\n",
    "    {\"messages\": [HumanMessage(content=\"whats the weather where I live?\")]}, config\n",
    "):\n",
    "    print(chunk)\n",
    "    print(\"----\")"
   ]
  },
  {
   "cell_type": "markdown",
   "metadata": {},
   "source": [
    "## Step by step agent"
   ]
  },
  {
   "cell_type": "markdown",
   "metadata": {},
   "source": [
    "Tavily example invocation"
   ]
  },
  {
   "cell_type": "code",
   "execution_count": 4,
   "metadata": {},
   "outputs": [
    {
     "name": "stdout",
     "output_type": "stream",
     "text": [
      "[{'url': 'https://www.weatherapi.com/', 'content': \"{'location': {'name': 'San Francisco', 'region': 'California', 'country': 'United States of America', 'lat': 37.775, 'lon': -122.4183, 'tz_id': 'America/Los_Angeles', 'localtime_epoch': 1733665427, 'localtime': '2024-12-08 05:43'}, 'current': {'last_updated_epoch': 1733664600, 'last_updated': '2024-12-08 05:30', 'temp_c': 10.1, 'temp_f': 50.2, 'is_day': 0, 'condition': {'text': 'Mist', 'icon': '//cdn.weatherapi.com/weather/64x64/night/143.png', 'code': 1030}, 'wind_mph': 4.5, 'wind_kph': 7.2, 'wind_degree': 9, 'wind_dir': 'N', 'pressure_mb': 1021.0, 'pressure_in': 30.15, 'precip_mm': 0.0, 'precip_in': 0.0, 'humidity': 93, 'cloud': 75, 'feelslike_c': 9.3, 'feelslike_f': 48.7, 'windchill_c': 11.5, 'windchill_f': 52.7, 'heatindex_c': 11.1, 'heatindex_f': 52.1, 'dewpoint_c': 10.9, 'dewpoint_f': 51.6, 'vis_km': 8.0, 'vis_miles': 4.0, 'uv': 0.0, 'gust_mph': 7.9, 'gust_kph': 12.7}}\"}, {'url': 'https://www.timeanddate.com/weather/@z-us-94104/ext', 'content': 'See more current weather. ×. San Francisco Extended Forecast with high and low temperatures °F. Last 2 weeks of weather. See weather overview. 2 Week Extended Forecast in San Francisco, USA. Scroll right to see more ... Aug 12: 63 / 56 °F: Morning clouds. 62 °F: 14 mph:'}]\n"
     ]
    }
   ],
   "source": [
    "search_results = search.invoke(\"what is the weather in SF\")\n",
    "print(search_results)"
   ]
  },
  {
   "cell_type": "markdown",
   "metadata": {},
   "source": [
    "Model example invocation"
   ]
  },
  {
   "cell_type": "code",
   "execution_count": 5,
   "metadata": {},
   "outputs": [
    {
     "data": {
      "text/plain": [
       "'Hello! How can I assist you today?'"
      ]
     },
     "execution_count": 5,
     "metadata": {},
     "output_type": "execute_result"
    }
   ],
   "source": [
    "from langchain_core.messages import HumanMessage\n",
    "\n",
    "response = model.invoke([HumanMessage(content=\"hi!\")])\n",
    "response.content"
   ]
  },
  {
   "cell_type": "markdown",
   "metadata": {},
   "source": [
    "Binding the tools to the model"
   ]
  },
  {
   "cell_type": "code",
   "execution_count": 6,
   "metadata": {},
   "outputs": [],
   "source": [
    "model_with_tools = model.bind_tools(tools)"
   ]
  },
  {
   "cell_type": "markdown",
   "metadata": {},
   "source": [
    "Example without the tool"
   ]
  },
  {
   "cell_type": "code",
   "execution_count": 7,
   "metadata": {},
   "outputs": [
    {
     "name": "stdout",
     "output_type": "stream",
     "text": [
      "ContentString: Hello! How can I assist you today?\n",
      "ToolCalls: []\n"
     ]
    }
   ],
   "source": [
    "response = model_with_tools.invoke([HumanMessage(content=\"Hi!\")])\n",
    "\n",
    "print(f\"ContentString: {response.content}\")\n",
    "print(f\"ToolCalls: {response.tool_calls}\")"
   ]
  },
  {
   "cell_type": "markdown",
   "metadata": {},
   "source": [
    "Example with the tool"
   ]
  },
  {
   "cell_type": "code",
   "execution_count": 8,
   "metadata": {},
   "outputs": [
    {
     "name": "stdout",
     "output_type": "stream",
     "text": [
      "ContentString: \n",
      "ToolCalls: [{'name': 'tavily_search_results_json', 'args': {'query': 'current weather in San Francisco'}, 'id': 'call_TTOArqXg1SljJPCektbhoSa4', 'type': 'tool_call'}]\n"
     ]
    }
   ],
   "source": [
    "response = model_with_tools.invoke([HumanMessage(content=\"What's the weather in SF?\")])\n",
    "\n",
    "print(f\"ContentString: {response.content}\")\n",
    "print(f\"ToolCalls: {response.tool_calls}\")"
   ]
  },
  {
   "cell_type": "markdown",
   "metadata": {},
   "source": [
    "Example with predefined function: `create_react_agent` will call `.bind_tools` under the hood"
   ]
  },
  {
   "cell_type": "code",
   "execution_count": 9,
   "metadata": {},
   "outputs": [],
   "source": [
    "from langgraph.prebuilt import create_react_agent\n",
    "\n",
    "agent_executor = create_react_agent(model, tools)"
   ]
  },
  {
   "cell_type": "markdown",
   "metadata": {},
   "source": [
    "Example without tool"
   ]
  },
  {
   "cell_type": "code",
   "execution_count": 10,
   "metadata": {},
   "outputs": [
    {
     "data": {
      "text/plain": [
       "[HumanMessage(content='hi!', additional_kwargs={}, response_metadata={}, id='e3d2e8af-5075-4158-b030-3ed2673ded51'),\n",
       " AIMessage(content='Hello! How can I assist you today?', additional_kwargs={'refusal': None}, response_metadata={'token_usage': {'completion_tokens': 10, 'prompt_tokens': 81, 'total_tokens': 91, 'completion_tokens_details': None, 'prompt_tokens_details': None}, 'model_name': 'gpt-4o-2024-08-06', 'system_fingerprint': 'fp_04751d0b65', 'finish_reason': 'stop', 'logprobs': None}, id='run-fc38eea7-ab66-43c7-a9d7-eeaf348ed92d-0', usage_metadata={'input_tokens': 81, 'output_tokens': 10, 'total_tokens': 91, 'input_token_details': {}, 'output_token_details': {}})]"
      ]
     },
     "execution_count": 10,
     "metadata": {},
     "output_type": "execute_result"
    }
   ],
   "source": [
    "response = agent_executor.invoke({\"messages\": [HumanMessage(content=\"hi!\")]})\n",
    "\n",
    "response[\"messages\"]"
   ]
  },
  {
   "cell_type": "markdown",
   "metadata": {},
   "source": [
    "Example with tool"
   ]
  },
  {
   "cell_type": "code",
   "execution_count": 11,
   "metadata": {},
   "outputs": [
    {
     "data": {
      "text/plain": [
       "[HumanMessage(content='whats the weather in sf?', additional_kwargs={}, response_metadata={}, id='e0ce58c8-f8d3-4b2b-9a05-54aca2cbd867'),\n",
       " AIMessage(content='', additional_kwargs={'tool_calls': [{'id': 'call_pfBUH3Blsr2RwY9tY1qBllY9', 'function': {'arguments': '{\"query\":\"San Francisco weather today\"}', 'name': 'tavily_search_results_json'}, 'type': 'function'}], 'refusal': None}, response_metadata={'token_usage': {'completion_tokens': 21, 'prompt_tokens': 86, 'total_tokens': 107, 'completion_tokens_details': None, 'prompt_tokens_details': None}, 'model_name': 'gpt-4o-2024-08-06', 'system_fingerprint': 'fp_04751d0b65', 'finish_reason': 'tool_calls', 'logprobs': None}, id='run-c78fde3a-8189-4062-81a6-591fca8586ce-0', tool_calls=[{'name': 'tavily_search_results_json', 'args': {'query': 'San Francisco weather today'}, 'id': 'call_pfBUH3Blsr2RwY9tY1qBllY9', 'type': 'tool_call'}], usage_metadata={'input_tokens': 86, 'output_tokens': 21, 'total_tokens': 107, 'input_token_details': {}, 'output_token_details': {}}),\n",
       " ToolMessage(content='[{\"url\": \"https://www.weatherapi.com/\", \"content\": \"{\\'location\\': {\\'name\\': \\'San Francisco\\', \\'region\\': \\'California\\', \\'country\\': \\'United States of America\\', \\'lat\\': 37.775, \\'lon\\': -122.4183, \\'tz_id\\': \\'America/Los_Angeles\\', \\'localtime_epoch\\': 1733665403, \\'localtime\\': \\'2024-12-08 05:43\\'}, \\'current\\': {\\'last_updated_epoch\\': 1733664600, \\'last_updated\\': \\'2024-12-08 05:30\\', \\'temp_c\\': 10.1, \\'temp_f\\': 50.2, \\'is_day\\': 0, \\'condition\\': {\\'text\\': \\'Mist\\', \\'icon\\': \\'//cdn.weatherapi.com/weather/64x64/night/143.png\\', \\'code\\': 1030}, \\'wind_mph\\': 4.5, \\'wind_kph\\': 7.2, \\'wind_degree\\': 9, \\'wind_dir\\': \\'N\\', \\'pressure_mb\\': 1021.0, \\'pressure_in\\': 30.15, \\'precip_mm\\': 0.0, \\'precip_in\\': 0.0, \\'humidity\\': 93, \\'cloud\\': 75, \\'feelslike_c\\': 9.3, \\'feelslike_f\\': 48.7, \\'windchill_c\\': 11.5, \\'windchill_f\\': 52.7, \\'heatindex_c\\': 11.1, \\'heatindex_f\\': 52.1, \\'dewpoint_c\\': 10.9, \\'dewpoint_f\\': 51.6, \\'vis_km\\': 8.0, \\'vis_miles\\': 4.0, \\'uv\\': 0.0, \\'gust_mph\\': 7.9, \\'gust_kph\\': 12.7}}\"}, {\"url\": \"https://world-weather.info/forecast/usa/san_francisco/august-2024/\", \"content\": \"Weather in San Francisco in August 2024 (California) - Detailed Weather Forecast for a Month Weather in San Francisco Weather in San Francisco in August 2024 1 +64°+54° 2 +64°+54° 3 +66°+55° 4 +61°+54° 5 +63°+54° 6 +66°+54° 7 +64°+54° 8 +61°+54° 9 +61°+54° 10 +63°+54° 11 +61°+54° 12 +61°+54° 13 +64°+54° 14 +64°+55° 15 +64°+55° 16 +68°+55° 17 +68°+59° 18 +68°+57° 19 +66°+54° 20 +70°+55° 21 +66°+55° 22 +66°+57° 23 +66°+55° 24 +70°+59° 25 +72°+55° 26 +73°+57° 27 +75°+55° 28 +70°+57° 29 +68°+57° 30 +68°+57° 31 +68°+57° Weather in Washington, D.C.+66° Sacramento+59° Pleasanton+55° Redwood City+57° San Leandro+59° San Mateo+55° San Rafael+57° San Ramon+55° South San Francisco+55° Vallejo+57° Pacifica+52° Berkeley+61° Concord+57° Daly City+54° Canyon+59° world\\'s temperature today Temperature units\"}]', name='tavily_search_results_json', id='13873ac3-852f-48ec-b075-147598b0ff0c', tool_call_id='call_pfBUH3Blsr2RwY9tY1qBllY9', artifact={'query': 'San Francisco weather today', 'follow_up_questions': None, 'answer': None, 'images': [], 'results': [{'title': 'Weather in San Francisco, CA', 'url': 'https://www.weatherapi.com/', 'content': \"{'location': {'name': 'San Francisco', 'region': 'California', 'country': 'United States of America', 'lat': 37.775, 'lon': -122.4183, 'tz_id': 'America/Los_Angeles', 'localtime_epoch': 1733665403, 'localtime': '2024-12-08 05:43'}, 'current': {'last_updated_epoch': 1733664600, 'last_updated': '2024-12-08 05:30', 'temp_c': 10.1, 'temp_f': 50.2, 'is_day': 0, 'condition': {'text': 'Mist', 'icon': '//cdn.weatherapi.com/weather/64x64/night/143.png', 'code': 1030}, 'wind_mph': 4.5, 'wind_kph': 7.2, 'wind_degree': 9, 'wind_dir': 'N', 'pressure_mb': 1021.0, 'pressure_in': 30.15, 'precip_mm': 0.0, 'precip_in': 0.0, 'humidity': 93, 'cloud': 75, 'feelslike_c': 9.3, 'feelslike_f': 48.7, 'windchill_c': 11.5, 'windchill_f': 52.7, 'heatindex_c': 11.1, 'heatindex_f': 52.1, 'dewpoint_c': 10.9, 'dewpoint_f': 51.6, 'vis_km': 8.0, 'vis_miles': 4.0, 'uv': 0.0, 'gust_mph': 7.9, 'gust_kph': 12.7}}\", 'score': 0.9976293, 'raw_content': None}, {'title': 'Weather in San Francisco in August 2024', 'url': 'https://world-weather.info/forecast/usa/san_francisco/august-2024/', 'content': \"Weather in San Francisco in August 2024 (California) - Detailed Weather Forecast for a Month Weather in San Francisco Weather in San Francisco in August 2024 1 +64°+54° 2 +64°+54° 3 +66°+55° 4 +61°+54° 5 +63°+54° 6 +66°+54° 7 +64°+54° 8 +61°+54° 9 +61°+54° 10 +63°+54° 11 +61°+54° 12 +61°+54° 13 +64°+54° 14 +64°+55° 15 +64°+55° 16 +68°+55° 17 +68°+59° 18 +68°+57° 19 +66°+54° 20 +70°+55° 21 +66°+55° 22 +66°+57° 23 +66°+55° 24 +70°+59° 25 +72°+55° 26 +73°+57° 27 +75°+55° 28 +70°+57° 29 +68°+57° 30 +68°+57° 31 +68°+57° Weather in Washington, D.C.+66° Sacramento+59° Pleasanton+55° Redwood City+57° San Leandro+59° San Mateo+55° San Rafael+57° San Ramon+55° South San Francisco+55° Vallejo+57° Pacifica+52° Berkeley+61° Concord+57° Daly City+54° Canyon+59° world's temperature today Temperature units\", 'score': 0.9969126, 'raw_content': None}], 'response_time': 2.41}),\n",
       " AIMessage(content='The current weather in San Francisco is misty with a temperature of 10.1°C (50.2°F). The wind is blowing from the north at 4.5 mph (7.2 kph), and the humidity level is at 93%. Visibility is around 8 km (4 miles).', additional_kwargs={'refusal': None}, response_metadata={'token_usage': {'completion_tokens': 64, 'prompt_tokens': 915, 'total_tokens': 979, 'completion_tokens_details': None, 'prompt_tokens_details': None}, 'model_name': 'gpt-4o-2024-08-06', 'system_fingerprint': 'fp_04751d0b65', 'finish_reason': 'stop', 'logprobs': None}, id='run-0e85b15d-16c6-452a-91c3-6ccce86cbebe-0', usage_metadata={'input_tokens': 915, 'output_tokens': 64, 'total_tokens': 979, 'input_token_details': {}, 'output_token_details': {}})]"
      ]
     },
     "execution_count": 11,
     "metadata": {},
     "output_type": "execute_result"
    }
   ],
   "source": [
    "response = agent_executor.invoke(\n",
    "    {\"messages\": [HumanMessage(content=\"whats the weather in sf?\")]}\n",
    ")\n",
    "response[\"messages\"]"
   ]
  },
  {
   "cell_type": "markdown",
   "metadata": {},
   "source": [
    "Streaming the response"
   ]
  },
  {
   "cell_type": "code",
   "execution_count": 12,
   "metadata": {},
   "outputs": [
    {
     "name": "stdout",
     "output_type": "stream",
     "text": [
      "{'agent': {'messages': [AIMessage(content='', additional_kwargs={'tool_calls': [{'id': 'call_cMNBFV1Oar7Yy600rTONKKM8', 'function': {'arguments': '{\"query\":\"current weather in San Francisco\"}', 'name': 'tavily_search_results_json'}, 'type': 'function'}], 'refusal': None}, response_metadata={'token_usage': {'completion_tokens': 22, 'prompt_tokens': 86, 'total_tokens': 108, 'completion_tokens_details': None, 'prompt_tokens_details': None}, 'model_name': 'gpt-4o-2024-08-06', 'system_fingerprint': 'fp_04751d0b65', 'finish_reason': 'tool_calls', 'logprobs': None}, id='run-8b02f8a9-2d3c-4c6f-90d4-3f1825c26354-0', tool_calls=[{'name': 'tavily_search_results_json', 'args': {'query': 'current weather in San Francisco'}, 'id': 'call_cMNBFV1Oar7Yy600rTONKKM8', 'type': 'tool_call'}], usage_metadata={'input_tokens': 86, 'output_tokens': 22, 'total_tokens': 108, 'input_token_details': {}, 'output_token_details': {}})]}}\n",
      "----\n",
      "{'tools': {'messages': [ToolMessage(content='[{\"url\": \"https://www.weatherapi.com/\", \"content\": \"{\\'location\\': {\\'name\\': \\'San Francisco\\', \\'region\\': \\'California\\', \\'country\\': \\'United States of America\\', \\'lat\\': 37.775, \\'lon\\': -122.4183, \\'tz_id\\': \\'America/Los_Angeles\\', \\'localtime_epoch\\': 1733665427, \\'localtime\\': \\'2024-12-08 05:43\\'}, \\'current\\': {\\'last_updated_epoch\\': 1733664600, \\'last_updated\\': \\'2024-12-08 05:30\\', \\'temp_c\\': 10.1, \\'temp_f\\': 50.2, \\'is_day\\': 0, \\'condition\\': {\\'text\\': \\'Mist\\', \\'icon\\': \\'//cdn.weatherapi.com/weather/64x64/night/143.png\\', \\'code\\': 1030}, \\'wind_mph\\': 4.5, \\'wind_kph\\': 7.2, \\'wind_degree\\': 9, \\'wind_dir\\': \\'N\\', \\'pressure_mb\\': 1021.0, \\'pressure_in\\': 30.15, \\'precip_mm\\': 0.0, \\'precip_in\\': 0.0, \\'humidity\\': 93, \\'cloud\\': 75, \\'feelslike_c\\': 9.3, \\'feelslike_f\\': 48.7, \\'windchill_c\\': 11.5, \\'windchill_f\\': 52.7, \\'heatindex_c\\': 11.1, \\'heatindex_f\\': 52.1, \\'dewpoint_c\\': 10.9, \\'dewpoint_f\\': 51.6, \\'vis_km\\': 8.0, \\'vis_miles\\': 4.0, \\'uv\\': 0.0, \\'gust_mph\\': 7.9, \\'gust_kph\\': 12.7}}\"}, {\"url\": \"https://world-weather.info/forecast/usa/san_francisco/august-2024/\", \"content\": \"Weather in San Francisco in August 2024 (California) - Detailed Weather Forecast for a Month Weather in San Francisco Weather in San Francisco in August 2024 1 +64°+54° 2 +64°+54° 3 +66°+55° 4 +61°+54° 5 +63°+54° 6 +66°+54° 7 +64°+54° 8 +61°+54° 9 +61°+54° 10 +63°+54° 11 +61°+54° 12 +61°+54° 13 +64°+54° 14 +64°+55° 15 +64°+55° 16 +68°+55° 17 +68°+59° 18 +68°+57° 19 +66°+54° 20 +70°+55° 21 +66°+55° 22 +66°+57° 23 +66°+55° 24 +70°+59° 25 +72°+55° 26 +73°+57° 27 +75°+55° 28 +70°+57° 29 +68°+57° 30 +68°+57° 31 +68°+57° Weather in Washington, D.C.+66° Sacramento+59° Pleasanton+55° Redwood City+57° San Leandro+59° San Mateo+55° San Rafael+57° San Ramon+55° South San Francisco+55° Vallejo+57° Pacifica+52° Berkeley+61° Concord+57° Daly City+54° Canyon+59° world\\'s temperature today Temperature units\"}]', name='tavily_search_results_json', id='14d364fc-6b84-4477-996d-795c7cc5e2b7', tool_call_id='call_cMNBFV1Oar7Yy600rTONKKM8', artifact={'query': 'current weather in San Francisco', 'follow_up_questions': None, 'answer': None, 'images': [], 'results': [{'title': 'Weather in San Francisco', 'url': 'https://www.weatherapi.com/', 'content': \"{'location': {'name': 'San Francisco', 'region': 'California', 'country': 'United States of America', 'lat': 37.775, 'lon': -122.4183, 'tz_id': 'America/Los_Angeles', 'localtime_epoch': 1733665427, 'localtime': '2024-12-08 05:43'}, 'current': {'last_updated_epoch': 1733664600, 'last_updated': '2024-12-08 05:30', 'temp_c': 10.1, 'temp_f': 50.2, 'is_day': 0, 'condition': {'text': 'Mist', 'icon': '//cdn.weatherapi.com/weather/64x64/night/143.png', 'code': 1030}, 'wind_mph': 4.5, 'wind_kph': 7.2, 'wind_degree': 9, 'wind_dir': 'N', 'pressure_mb': 1021.0, 'pressure_in': 30.15, 'precip_mm': 0.0, 'precip_in': 0.0, 'humidity': 93, 'cloud': 75, 'feelslike_c': 9.3, 'feelslike_f': 48.7, 'windchill_c': 11.5, 'windchill_f': 52.7, 'heatindex_c': 11.1, 'heatindex_f': 52.1, 'dewpoint_c': 10.9, 'dewpoint_f': 51.6, 'vis_km': 8.0, 'vis_miles': 4.0, 'uv': 0.0, 'gust_mph': 7.9, 'gust_kph': 12.7}}\", 'score': 0.9994841, 'raw_content': None}, {'title': 'Weather in San Francisco in August 2024', 'url': 'https://world-weather.info/forecast/usa/san_francisco/august-2024/', 'content': \"Weather in San Francisco in August 2024 (California) - Detailed Weather Forecast for a Month Weather in San Francisco Weather in San Francisco in August 2024 1 +64°+54° 2 +64°+54° 3 +66°+55° 4 +61°+54° 5 +63°+54° 6 +66°+54° 7 +64°+54° 8 +61°+54° 9 +61°+54° 10 +63°+54° 11 +61°+54° 12 +61°+54° 13 +64°+54° 14 +64°+55° 15 +64°+55° 16 +68°+55° 17 +68°+59° 18 +68°+57° 19 +66°+54° 20 +70°+55° 21 +66°+55° 22 +66°+57° 23 +66°+55° 24 +70°+59° 25 +72°+55° 26 +73°+57° 27 +75°+55° 28 +70°+57° 29 +68°+57° 30 +68°+57° 31 +68°+57° Weather in Washington, D.C.+66° Sacramento+59° Pleasanton+55° Redwood City+57° San Leandro+59° San Mateo+55° San Rafael+57° San Ramon+55° South San Francisco+55° Vallejo+57° Pacifica+52° Berkeley+61° Concord+57° Daly City+54° Canyon+59° world's temperature today Temperature units\", 'score': 0.9951703, 'raw_content': None}], 'response_time': 2.11})]}}\n",
      "----\n",
      "{'agent': {'messages': [AIMessage(content='The current weather in San Francisco is misty, with a temperature of 10.1°C (50.2°F). The wind is coming from the north at 4.5 mph (7.2 kph), and the humidity level is at 93%. Visibility is about 8 kilometers (4 miles).', additional_kwargs={'refusal': None}, response_metadata={'token_usage': {'completion_tokens': 65, 'prompt_tokens': 916, 'total_tokens': 981, 'completion_tokens_details': None, 'prompt_tokens_details': None}, 'model_name': 'gpt-4o-2024-08-06', 'system_fingerprint': 'fp_d54531d9eb', 'finish_reason': 'stop', 'logprobs': None}, id='run-e22429d2-8c51-4c7c-adf2-5542457759a4-0', usage_metadata={'input_tokens': 916, 'output_tokens': 65, 'total_tokens': 981, 'input_token_details': {}, 'output_token_details': {}})]}}\n",
      "----\n"
     ]
    }
   ],
   "source": [
    "for chunk in agent_executor.stream(\n",
    "    {\"messages\": [HumanMessage(content=\"whats the weather in sf?\")]}\n",
    "):\n",
    "    print(chunk)\n",
    "    print(\"----\")"
   ]
  },
  {
   "cell_type": "markdown",
   "metadata": {},
   "source": [
    "Streming the events with `.astream_events`"
   ]
  },
  {
   "cell_type": "code",
   "execution_count": 13,
   "metadata": {},
   "outputs": [
    {
     "name": "stdout",
     "output_type": "stream",
     "text": [
      "--\n",
      "Starting tool: tavily_search_results_json with inputs: {'query': 'San Francisco weather today'}\n",
      "Done tool: tavily_search_results_json\n",
      "Tool output was: content='[{\"url\": \"https://www.weatherapi.com/\", \"content\": \"{\\'location\\': {\\'name\\': \\'San Francisco\\', \\'region\\': \\'California\\', \\'country\\': \\'United States of America\\', \\'lat\\': 37.775, \\'lon\\': -122.4183, \\'tz_id\\': \\'America/Los_Angeles\\', \\'localtime_epoch\\': 1733665403, \\'localtime\\': \\'2024-12-08 05:43\\'}, \\'current\\': {\\'last_updated_epoch\\': 1733664600, \\'last_updated\\': \\'2024-12-08 05:30\\', \\'temp_c\\': 10.1, \\'temp_f\\': 50.2, \\'is_day\\': 0, \\'condition\\': {\\'text\\': \\'Mist\\', \\'icon\\': \\'//cdn.weatherapi.com/weather/64x64/night/143.png\\', \\'code\\': 1030}, \\'wind_mph\\': 4.5, \\'wind_kph\\': 7.2, \\'wind_degree\\': 9, \\'wind_dir\\': \\'N\\', \\'pressure_mb\\': 1021.0, \\'pressure_in\\': 30.15, \\'precip_mm\\': 0.0, \\'precip_in\\': 0.0, \\'humidity\\': 93, \\'cloud\\': 75, \\'feelslike_c\\': 9.3, \\'feelslike_f\\': 48.7, \\'windchill_c\\': 11.5, \\'windchill_f\\': 52.7, \\'heatindex_c\\': 11.1, \\'heatindex_f\\': 52.1, \\'dewpoint_c\\': 10.9, \\'dewpoint_f\\': 51.6, \\'vis_km\\': 8.0, \\'vis_miles\\': 4.0, \\'uv\\': 0.0, \\'gust_mph\\': 7.9, \\'gust_kph\\': 12.7}}\"}, {\"url\": \"https://world-weather.info/forecast/usa/san_francisco/august-2024/\", \"content\": \"Weather in San Francisco in August 2024 (California) - Detailed Weather Forecast for a Month Weather in San Francisco Weather in San Francisco in August 2024 1 +64°+54° 2 +64°+54° 3 +66°+55° 4 +61°+54° 5 +63°+54° 6 +66°+54° 7 +64°+54° 8 +61°+54° 9 +61°+54° 10 +63°+54° 11 +61°+54° 12 +61°+54° 13 +64°+54° 14 +64°+55° 15 +64°+55° 16 +68°+55° 17 +68°+59° 18 +68°+57° 19 +66°+54° 20 +70°+55° 21 +66°+55° 22 +66°+57° 23 +66°+55° 24 +70°+59° 25 +72°+55° 26 +73°+57° 27 +75°+55° 28 +70°+57° 29 +68°+57° 30 +68°+57° 31 +68°+57° Weather in Washington, D.C.+66° Sacramento+59° Pleasanton+55° Redwood City+57° San Leandro+59° San Mateo+55° San Rafael+57° San Ramon+55° South San Francisco+55° Vallejo+57° Pacifica+52° Berkeley+61° Concord+57° Daly City+54° Canyon+59° world\\'s temperature today Temperature units\"}]' name='tavily_search_results_json' tool_call_id='call_e1AXzBia2HIMNsPD1fb1hZvM' artifact={'query': 'San Francisco weather today', 'follow_up_questions': None, 'answer': None, 'images': [], 'results': [{'title': 'Weather in San Francisco, CA', 'url': 'https://www.weatherapi.com/', 'content': \"{'location': {'name': 'San Francisco', 'region': 'California', 'country': 'United States of America', 'lat': 37.775, 'lon': -122.4183, 'tz_id': 'America/Los_Angeles', 'localtime_epoch': 1733665403, 'localtime': '2024-12-08 05:43'}, 'current': {'last_updated_epoch': 1733664600, 'last_updated': '2024-12-08 05:30', 'temp_c': 10.1, 'temp_f': 50.2, 'is_day': 0, 'condition': {'text': 'Mist', 'icon': '//cdn.weatherapi.com/weather/64x64/night/143.png', 'code': 1030}, 'wind_mph': 4.5, 'wind_kph': 7.2, 'wind_degree': 9, 'wind_dir': 'N', 'pressure_mb': 1021.0, 'pressure_in': 30.15, 'precip_mm': 0.0, 'precip_in': 0.0, 'humidity': 93, 'cloud': 75, 'feelslike_c': 9.3, 'feelslike_f': 48.7, 'windchill_c': 11.5, 'windchill_f': 52.7, 'heatindex_c': 11.1, 'heatindex_f': 52.1, 'dewpoint_c': 10.9, 'dewpoint_f': 51.6, 'vis_km': 8.0, 'vis_miles': 4.0, 'uv': 0.0, 'gust_mph': 7.9, 'gust_kph': 12.7}}\", 'score': 0.9994833, 'raw_content': None}, {'title': 'Weather in San Francisco in August 2024', 'url': 'https://world-weather.info/forecast/usa/san_francisco/august-2024/', 'content': \"Weather in San Francisco in August 2024 (California) - Detailed Weather Forecast for a Month Weather in San Francisco Weather in San Francisco in August 2024 1 +64°+54° 2 +64°+54° 3 +66°+55° 4 +61°+54° 5 +63°+54° 6 +66°+54° 7 +64°+54° 8 +61°+54° 9 +61°+54° 10 +63°+54° 11 +61°+54° 12 +61°+54° 13 +64°+54° 14 +64°+55° 15 +64°+55° 16 +68°+55° 17 +68°+59° 18 +68°+57° 19 +66°+54° 20 +70°+55° 21 +66°+55° 22 +66°+57° 23 +66°+55° 24 +70°+59° 25 +72°+55° 26 +73°+57° 27 +75°+55° 28 +70°+57° 29 +68°+57° 30 +68°+57° 31 +68°+57° Weather in Washington, D.C.+66° Sacramento+59° Pleasanton+55° Redwood City+57° San Leandro+59° San Mateo+55° San Rafael+57° San Ramon+55° South San Francisco+55° Vallejo+57° Pacifica+52° Berkeley+61° Concord+57° Daly City+54° Canyon+59° world's temperature today Temperature units\", 'score': 0.99690056, 'raw_content': None}], 'response_time': 2.43}\n",
      "--\n",
      "The| current| weather| in| San| Francisco| is| mist|y| with| a| temperature| of| |10|.|1|°C| (|50|.|2|°F|).| The| wind| is| coming| from| the| north| at| |4|.|5| mph| (|7|.|2| k|ph|).| The| humidity| is| quite| high| at| |93|%,| and| the| visibility| is| around| |8| km| (|4| miles|).| The| weather| feels| slightly| cooler| at| |9|.|3|°C| (|48|.|7|°F|).|"
     ]
    }
   ],
   "source": [
    "async for event in agent_executor.astream_events(\n",
    "    {\"messages\": [HumanMessage(content=\"whats the weather in sf?\")]}, version=\"v1\"\n",
    "):\n",
    "    kind = event[\"event\"]\n",
    "    if kind == \"on_chain_start\":\n",
    "        if (\n",
    "            event[\"name\"] == \"Agent\"\n",
    "        ):  # Was assigned when creating the agent with `.with_config({\"run_name\": \"Agent\"})`\n",
    "            print(\n",
    "                f\"Starting agent: {event['name']} with input: {event['data'].get('input')}\"\n",
    "            )\n",
    "    elif kind == \"on_chain_end\":\n",
    "        if (\n",
    "            event[\"name\"] == \"Agent\"\n",
    "        ):  # Was assigned when creating the agent with `.with_config({\"run_name\": \"Agent\"})`\n",
    "            print()\n",
    "            print(\"--\")\n",
    "            print(\n",
    "                f\"Done agent: {event['name']} with output: {event['data'].get('output')['output']}\"\n",
    "            )\n",
    "    if kind == \"on_chat_model_stream\":\n",
    "        content = event[\"data\"][\"chunk\"].content\n",
    "        if content:\n",
    "            # Empty content in the context of OpenAI means\n",
    "            # that the model is asking for a tool to be invoked.\n",
    "            # So we only print non-empty content\n",
    "            print(content, end=\"|\")\n",
    "    elif kind == \"on_tool_start\":\n",
    "        print(\"--\")\n",
    "        print(\n",
    "            f\"Starting tool: {event['name']} with inputs: {event['data'].get('input')}\"\n",
    "        )\n",
    "    elif kind == \"on_tool_end\":\n",
    "        print(f\"Done tool: {event['name']}\")\n",
    "        print(f\"Tool output was: {event['data'].get('output')}\")\n",
    "        print(\"--\")"
   ]
  },
  {
   "cell_type": "markdown",
   "metadata": {},
   "source": [
    "Definining memory"
   ]
  },
  {
   "cell_type": "code",
   "execution_count": 14,
   "metadata": {},
   "outputs": [],
   "source": [
    "from langgraph.checkpoint.memory import MemorySaver\n",
    "\n",
    "memory = MemorySaver()"
   ]
  },
  {
   "cell_type": "markdown",
   "metadata": {},
   "source": [
    "Adding memory to the agent  \n",
    "To give memory to the agent we need to pass in a checkpointer. When passing in a checkpointer, we also have to pass in a `thread_id` when invoking the agent (so it knows which thread/conversation to resume from)."
   ]
  },
  {
   "cell_type": "code",
   "execution_count": 15,
   "metadata": {},
   "outputs": [],
   "source": [
    "agent_executor = create_react_agent(model, tools, checkpointer=memory)\n",
    "\n",
    "config = {\"configurable\": {\"thread_id\": \"abc123\"}}"
   ]
  },
  {
   "cell_type": "markdown",
   "metadata": {},
   "source": [
    "Example with memory"
   ]
  },
  {
   "cell_type": "code",
   "execution_count": 16,
   "metadata": {},
   "outputs": [
    {
     "name": "stdout",
     "output_type": "stream",
     "text": [
      "{'agent': {'messages': [AIMessage(content='Hello Bob! How can I assist you today?', additional_kwargs={'refusal': None}, response_metadata={'token_usage': {'completion_tokens': 11, 'prompt_tokens': 83, 'total_tokens': 94, 'completion_tokens_details': None, 'prompt_tokens_details': None}, 'model_name': 'gpt-4o-2024-08-06', 'system_fingerprint': 'fp_04751d0b65', 'finish_reason': 'stop', 'logprobs': None}, id='run-7cda88a1-1361-437d-9fe9-a97026f8bca1-0', usage_metadata={'input_tokens': 83, 'output_tokens': 11, 'total_tokens': 94, 'input_token_details': {}, 'output_token_details': {}})]}}\n",
      "----\n"
     ]
    }
   ],
   "source": [
    "for chunk in agent_executor.stream(\n",
    "    {\"messages\": [HumanMessage(content=\"hi im bob!\")]}, config\n",
    "):\n",
    "    print(chunk)\n",
    "    print(\"----\")"
   ]
  },
  {
   "cell_type": "code",
   "execution_count": 17,
   "metadata": {},
   "outputs": [
    {
     "name": "stdout",
     "output_type": "stream",
     "text": [
      "{'agent': {'messages': [AIMessage(content='Your name is Bob!', additional_kwargs={'refusal': None}, response_metadata={'token_usage': {'completion_tokens': 6, 'prompt_tokens': 106, 'total_tokens': 112, 'completion_tokens_details': None, 'prompt_tokens_details': None}, 'model_name': 'gpt-4o-2024-08-06', 'system_fingerprint': 'fp_04751d0b65', 'finish_reason': 'stop', 'logprobs': None}, id='run-6e848093-f8b2-401d-bb68-156afc77054a-0', usage_metadata={'input_tokens': 106, 'output_tokens': 6, 'total_tokens': 112, 'input_token_details': {}, 'output_token_details': {}})]}}\n",
      "----\n"
     ]
    }
   ],
   "source": [
    "for chunk in agent_executor.stream(\n",
    "    {\"messages\": [HumanMessage(content=\"whats my name?\")]}, config\n",
    "):\n",
    "    print(chunk)\n",
    "    print(\"----\")"
   ]
  }
 ],
 "metadata": {
  "kernelspec": {
   "display_name": "langchain",
   "language": "python",
   "name": "python3"
  },
  "language_info": {
   "codemirror_mode": {
    "name": "ipython",
    "version": 3
   },
   "file_extension": ".py",
   "mimetype": "text/x-python",
   "name": "python",
   "nbconvert_exporter": "python",
   "pygments_lexer": "ipython3",
   "version": "3.11.10"
  }
 },
 "nbformat": 4,
 "nbformat_minor": 2
}
